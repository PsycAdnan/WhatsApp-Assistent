{
 "cells": [
  {
   "cell_type": "code",
   "execution_count": 1,
   "id": "cbe91259-120e-449d-bc87-bb1e693a6ca5",
   "metadata": {},
   "outputs": [
    {
     "name": "stdout",
     "output_type": "stream",
     "text": [
      "🗣️  Welcome to your WhatsApp assistant.\n",
      "🗣️ Please type the phone number including the country code. For example, +919876543210\n"
     ]
    },
    {
     "name": "stdin",
     "output_type": "stream",
     "text": [
      "📱 Phone number (with country code):  6360414073\n"
     ]
    },
    {
     "name": "stdout",
     "output_type": "stream",
     "text": [
      "You entered: +6360414073\n"
     ]
    },
    {
     "name": "stdin",
     "output_type": "stream",
     "text": [
      "Is this correct? (yes/no):  yes\n"
     ]
    },
    {
     "name": "stdout",
     "output_type": "stream",
     "text": [
      "🗣️ What would you like to do?\n",
      "1. 📩 Send a WhatsApp message\n",
      "2. 📞 Make a WhatsApp call (opens chat window)\n"
     ]
    },
    {
     "name": "stdin",
     "output_type": "stream",
     "text": [
      "Enter 1 or 2:  1\n"
     ]
    },
    {
     "name": "stdout",
     "output_type": "stream",
     "text": [
      "🗣️ Please say the message you want to send.\n",
      "🎤 Listening...\n",
      "✅ You said: lightweight baby\n",
      "🗣️ Your message was sent successfully!\n",
      "🗣️ Goodbye! \n"
     ]
    }
   ],
   "source": [
    "import speech_recognition as sr\n",
    "import pyttsx3\n",
    "import pywhatkit\n",
    "import webbrowser\n",
    "\n",
    "# Initialize the text-to-speech engine\n",
    "engine = pyttsx3.init()\n",
    "voices = engine.getProperty('voices')\n",
    "engine.setProperty('voice', voices[0].id)  # Use male voice\n",
    "\n",
    "def talk(text):\n",
    "    print(f\"🗣️ {text}\")\n",
    "    engine.say(text)\n",
    "    engine.runAndWait()\n",
    "\n",
    "def take_command():\n",
    "    listener = sr.Recognizer()\n",
    "    with sr.Microphone() as source:\n",
    "        print(\"🎤 Listening...\")\n",
    "        voice = listener.listen(source)\n",
    "    try:\n",
    "        command = listener.recognize_google(voice)\n",
    "        command = command.lower()\n",
    "        print(f\"✅ You said: {command}\")\n",
    "    except Exception:\n",
    "        print(\"❌ Couldn't recognize. Try typing instead.\")\n",
    "        return \"\"\n",
    "    return command\n",
    "\n",
    "def send_whatsapp_message(number):\n",
    "    talk(\"Please say the message you want to send.\")\n",
    "    message = take_command()\n",
    "    if not message:\n",
    "        talk(\"I couldn't catch that. Please type the message instead.\")\n",
    "        message = input(\"Type your message: \").strip()\n",
    "\n",
    "    try:\n",
    "        pywhatkit.sendwhatmsg_instantly(number, message)\n",
    "        talk(\"Your message was sent successfully!\")\n",
    "    except Exception as e:\n",
    "        talk(\"Sorry, there was an error sending your message.\")\n",
    "        print(f\"Error: {e}\")\n",
    "\n",
    "def make_whatsapp_call(number):\n",
    "    talk(f\"Opening WhatsApp chat window for {number}. You can place the call from there.\")\n",
    "    try:\n",
    "        url = f\"https://web.whatsapp.com/send?phone={number}\"\n",
    "        webbrowser.open(url)\n",
    "    except Exception as e:\n",
    "        talk(\"Sorry, I couldn't open WhatsApp.\")\n",
    "        print(f\"Error: {e}\")\n",
    "\n",
    "def main():\n",
    "    talk(\" Welcome to your WhatsApp assistant.\")\n",
    "    \n",
    "    # Get phone number\n",
    "    while True:\n",
    "        talk(\"Please type the phone number including the country code. For example, +919876543210\")\n",
    "        number = input(\"📱 Phone number (with country code): \").strip()\n",
    "        if not number.startswith('+'):\n",
    "            number = '+' + number\n",
    "\n",
    "        print(f\"You entered: {number}\")\n",
    "        confirm = input(\"Is this correct? (yes/no): \").strip().lower()\n",
    "        if confirm == 'yes':\n",
    "            break\n",
    "        else:\n",
    "            talk(\"Let's try again.\")\n",
    "\n",
    "    # Ask what to do: Message or Call\n",
    "    talk(\"What would you like to do?\")\n",
    "    print(\"1. 📩 Send a WhatsApp message\")\n",
    "    print(\"2. 📞 Make a WhatsApp call (opens chat window)\")\n",
    "\n",
    "    choice = input(\"Enter 1 or 2: \").strip()\n",
    "\n",
    "    if choice == '2':\n",
    "        make_whatsapp_call(number)\n",
    "    else:\n",
    "        \n",
    "        send_whatsapp_message(number)\n",
    "\n",
    "    talk(\"Goodbye! \")\n",
    "\n",
    "# Run the assistant\n",
    "main()\n"
   ]
  },
  {
   "cell_type": "code",
   "execution_count": null,
   "id": "07063d97-7cb6-4adc-98bc-da1c1b688771",
   "metadata": {},
   "outputs": [],
   "source": []
  }
 ],
 "metadata": {
  "kernelspec": {
   "display_name": "Python 3 (ipykernel)",
   "language": "python",
   "name": "python3"
  },
  "language_info": {
   "codemirror_mode": {
    "name": "ipython",
    "version": 3
   },
   "file_extension": ".py",
   "mimetype": "text/x-python",
   "name": "python",
   "nbconvert_exporter": "python",
   "pygments_lexer": "ipython3",
   "version": "3.12.7"
  }
 },
 "nbformat": 4,
 "nbformat_minor": 5
}
